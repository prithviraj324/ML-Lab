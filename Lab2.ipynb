{
  "nbformat": 4,
  "nbformat_minor": 0,
  "metadata": {
    "colab": {
      "name": "Lab2.ipynb",
      "provenance": [],
      "authorship_tag": "ABX9TyPqsWibGYXSd+voFewgFv7v",
      "include_colab_link": true
    },
    "kernelspec": {
      "name": "python3",
      "display_name": "Python 3"
    },
    "language_info": {
      "name": "python"
    }
  },
  "cells": [
    {
      "cell_type": "markdown",
      "metadata": {
        "id": "view-in-github",
        "colab_type": "text"
      },
      "source": [
        "<a href=\"https://colab.research.google.com/github/prithviraj324/ML-Lab/blob/main/Lab2.ipynb\" target=\"_parent\"><img src=\"https://colab.research.google.com/assets/colab-badge.svg\" alt=\"Open In Colab\"/></a>"
      ]
    },
    {
      "cell_type": "code",
      "execution_count": null,
      "metadata": {
        "colab": {
          "base_uri": "https://localhost:8080/"
        },
        "id": "rFoKqDTV6wDl",
        "outputId": "369797c3-0829-4833-a0b8-dea2f6e84eae"
      },
      "outputs": [
        {
          "output_type": "stream",
          "name": "stdout",
          "text": [
            "Entered data is\n",
            "     sky airtemp humidity    wind water forcast enjoysport\n",
            "0  sunny    warm   normal  strong  warm    same        yes\n",
            "1  sunny    warm     high  strong  warm    same        yes\n",
            "2  rainy    cold     high  strong  warm  change         no\n",
            "3  sunny    warm     high  strong  cool  change        yes\n",
            "\n",
            " The attributes are: \n",
            " [['sunny' 'warm' 'normal' 'strong' 'warm' 'same']\n",
            " ['sunny' 'warm' 'high' 'strong' 'warm' 'same']\n",
            " ['rainy' 'cold' 'high' 'strong' 'warm' 'change']\n",
            " ['sunny' 'warm' 'high' 'strong' 'cool' 'change']]\n",
            "\n",
            " The target is:  ['yes' 'yes' 'no' 'yes']\n",
            "\n",
            " Initialization of specific_h and general_h\n",
            "['sunny' 'warm' 'normal' 'strong' 'warm' 'same']\n",
            "[['?', '?', '?', '?', '?', '?'], ['?', '?', '?', '?', '?', '?'], ['?', '?', '?', '?', '?', '?'], ['?', '?', '?', '?', '?', '?'], ['?', '?', '?', '?', '?', '?'], ['?', '?', '?', '?', '?', '?']]\n",
            "\n",
            " Steps of Candidate Elimination Algorithm 1\n",
            "['sunny' 'warm' 'normal' 'strong' 'warm' 'same']\n",
            "['sunny' 'warm' 'normal' 'strong' 'warm' 'same']\n",
            "['sunny' 'warm' 'normal' 'strong' 'warm' 'same']\n",
            "['sunny' 'warm' 'normal' 'strong' 'warm' 'same']\n",
            "['sunny' 'warm' 'normal' 'strong' 'warm' 'same']\n",
            "['sunny' 'warm' 'normal' 'strong' 'warm' 'same']\n",
            "['sunny' 'warm' 'normal' 'strong' 'warm' 'same']\n",
            "['sunny' 'warm' 'normal' 'strong' 'warm' 'same']\n",
            "[['?', '?', '?', '?', '?', '?'], ['?', '?', '?', '?', '?', '?'], ['?', '?', '?', '?', '?', '?'], ['?', '?', '?', '?', '?', '?'], ['?', '?', '?', '?', '?', '?'], ['?', '?', '?', '?', '?', '?']]\n",
            "\n",
            " Steps of Candidate Elimination Algorithm 2\n",
            "['sunny' 'warm' 'normal' 'strong' 'warm' 'same']\n",
            "['sunny' 'warm' 'normal' 'strong' 'warm' 'same']\n",
            "['sunny' 'warm' '?' 'strong' 'warm' 'same']\n",
            "['sunny' 'warm' '?' 'strong' 'warm' 'same']\n",
            "['sunny' 'warm' '?' 'strong' 'warm' 'same']\n",
            "['sunny' 'warm' '?' 'strong' 'warm' 'same']\n",
            "['sunny' 'warm' '?' 'strong' 'warm' 'same']\n",
            "['sunny' 'warm' '?' 'strong' 'warm' 'same']\n",
            "[['?', '?', '?', '?', '?', '?'], ['?', '?', '?', '?', '?', '?'], ['?', '?', '?', '?', '?', '?'], ['?', '?', '?', '?', '?', '?'], ['?', '?', '?', '?', '?', '?'], ['?', '?', '?', '?', '?', '?']]\n",
            "\n",
            " Steps of Candidate Elimination Algorithm 3\n",
            "['sunny' 'warm' '?' 'strong' 'warm' 'same']\n",
            "['sunny' 'warm' '?' 'strong' 'warm' 'same']\n",
            "[['sunny', '?', '?', '?', '?', '?'], ['?', 'warm', '?', '?', '?', '?'], ['?', '?', '?', '?', '?', '?'], ['?', '?', '?', '?', '?', '?'], ['?', '?', '?', '?', '?', '?'], ['?', '?', '?', '?', '?', 'same']]\n",
            "\n",
            " Steps of Candidate Elimination Algorithm 4\n",
            "['sunny' 'warm' '?' 'strong' 'warm' 'same']\n",
            "['sunny' 'warm' '?' 'strong' 'warm' 'same']\n",
            "['sunny' 'warm' '?' 'strong' 'warm' 'same']\n",
            "['sunny' 'warm' '?' 'strong' 'warm' 'same']\n",
            "['sunny' 'warm' '?' 'strong' '?' 'same']\n",
            "['sunny' 'warm' '?' 'strong' '?' '?']\n",
            "['sunny' 'warm' '?' 'strong' '?' '?']\n",
            "['sunny' 'warm' '?' 'strong' '?' '?']\n",
            "[['sunny', '?', '?', '?', '?', '?'], ['?', 'warm', '?', '?', '?', '?'], ['?', '?', '?', '?', '?', '?'], ['?', '?', '?', '?', '?', '?'], ['?', '?', '?', '?', '?', '?'], ['?', '?', '?', '?', '?', '?']]\n",
            "\n",
            "Final Specific_h:\n",
            "['sunny' 'warm' '?' 'strong' '?' '?']\n",
            "\n",
            "Final General_h:\n",
            "[['sunny', '?', '?', '?', '?', '?'], ['?', 'warm', '?', '?', '?', '?']]\n"
          ]
        }
      ],
      "source": [
        "import pandas as pd\n",
        "import numpy as np\n",
        "data = pd.read_csv(\"/content/candidate.csv\")\n",
        "print(\"Entered data is\")\n",
        "print(data)\n",
        "concepts = np.array(data)[:,:-1]\n",
        "print(\"\\n The attributes are: \\n\",concepts)#d\n",
        "target = np.array(data)[:,-1]\n",
        "print(\"\\n The target is: \",target)\n",
        "#training function to implement candidate_elimination algorithm\n",
        "def learn(concepts, target):\n",
        " specific_h = concepts[0].copy()\n",
        " print(\"\\n Initialization of specific_h and general_h\")\n",
        " print(specific_h)\n",
        " general_h = [[\"?\" for i in range(len(specific_h))] for i in range(len(specific_h))]\n",
        " print(general_h)\n",
        " for i, h in enumerate(concepts):#i is row index, h is row values from concepts[]. Google enumerate()\n",
        "     print(\"\\n Steps of Candidate Elimination Algorithm\",i+1)\n",
        "     if target[i] == \"yes\":\n",
        "         for x in range(len(specific_h)):\n",
        "             if h[x]!= specific_h[x]:\n",
        "                 specific_h[x] ='?'\n",
        "                 general_h[x][x] ='?'#removing inconsitencies between s and g\n",
        "             print(specific_h)\n",
        "     print(specific_h)\n",
        "     if target[i] == \"no\":\n",
        "         for x in range(len(specific_h)):\n",
        "             if h[x]!= specific_h[x]:\n",
        "                 general_h[x][x] = specific_h[x]\n",
        "             else:\n",
        "                 general_h[x][x] = '?'\n",
        "     \n",
        "     print(specific_h)\n",
        "     print(general_h)\n",
        " indices = [i for i, val in enumerate(general_h) if val == ['?', '?', '?', '?', '?', '?']]\n",
        " for i in indices:\n",
        "     general_h.remove(['?', '?', '?', '?', '?', '?'])\n",
        " return specific_h, general_h\n",
        "\n",
        "\n",
        "s_final, g_final = learn(concepts, target)\n",
        "\n",
        "#obtaining the final hypothesis\n",
        "print(\"\\nFinal Specific_h:\", s_final, sep=\"\\n\")\n",
        "print(\"\\nFinal General_h:\", g_final, sep=\"\\n\")"
      ]
    }
  ]
}